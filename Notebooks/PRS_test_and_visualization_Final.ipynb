{
 "cells": [
  {
   "cell_type": "markdown",
   "metadata": {},
   "source": [
    "**For Google Colab Only**"
   ]
  },
  {
   "cell_type": "code",
   "execution_count": null,
   "metadata": {},
   "outputs": [],
   "source": [
    "from google.colab import drive\n",
    "drive.mount(\"/content/gdrive\", force_remount=True)"
   ]
  },
  {
   "cell_type": "markdown",
   "metadata": {},
   "source": [
    "**Import packages**"
   ]
  },
  {
   "cell_type": "code",
   "execution_count": null,
   "metadata": {
    "colab": {
     "base_uri": "https://localhost:8080/"
    },
    "executionInfo": {
     "elapsed": 28747,
     "status": "ok",
     "timestamp": 1636206535407,
     "user": {
      "displayName": "mao yueyue",
      "photoUrl": "https://lh3.googleusercontent.com/a/default-user=s64",
      "userId": "11996306090384496990"
     },
     "user_tz": -480
    },
    "id": "MimOKXWKCsMO",
    "outputId": "c7b533ac-2251-494f-c1b7-668d7079981e"
   },
   "outputs": [],
   "source": [
    "import glob\n",
    "import random\n",
    "import os"
   ]
  },
  {
   "cell_type": "markdown",
   "metadata": {
    "id": "9Amxzh0Xy_Qh"
   },
   "source": [
    "**Code for testing model accuracy**"
   ]
  },
  {
   "cell_type": "code",
   "execution_count": null,
   "metadata": {
    "colab": {
     "base_uri": "https://localhost:8080/"
    },
    "executionInfo": {
     "elapsed": 956,
     "status": "ok",
     "timestamp": 1636206548282,
     "user": {
      "displayName": "mao yueyue",
      "photoUrl": "https://lh3.googleusercontent.com/a/default-user=s64",
      "userId": "11996306090384496990"
     },
     "user_tz": -480
    },
    "id": "_HvTMRhkCyEa",
    "outputId": "37271b59-0faf-4b63-dd4a-9fe530c570e9"
   },
   "outputs": [],
   "source": [
    "#Change this location to your desired dataset\n",
    "os.chdir(\"C:\\\\Users\\\\Kennedy\\\\OneDrive\\\\Documents\\\\NUS\\\\Projects\\\\PRS\\\\GIT\\\\PRPS\\\\Data\\\\\")\n",
    "print(os.getcwd())"
   ]
  },
  {
   "cell_type": "code",
   "execution_count": null,
   "metadata": {
    "colab": {
     "base_uri": "https://localhost:8080/"
    },
    "executionInfo": {
     "elapsed": 509,
     "status": "ok",
     "timestamp": 1636206557640,
     "user": {
      "displayName": "mao yueyue",
      "photoUrl": "https://lh3.googleusercontent.com/a/default-user=s64",
      "userId": "11996306090384496990"
     },
     "user_tz": -480
    },
    "id": "59MtUpZyCyHQ",
    "outputId": "66d0cce0-4051-4e43-8fab-def4f2162de0"
   },
   "outputs": [
    {
     "name": "stdout",
     "output_type": "stream",
     "text": [
      "937\n"
     ]
    }
   ],
   "source": [
    "#reading test dataset\n",
    "video_filepaths1=[]\n",
    "video_filepaths1=(glob.glob(\"processed_**.mp4\"))\n",
    "print(len(video_filepaths1))"
   ]
  },
  {
   "cell_type": "code",
   "execution_count": null,
   "metadata": {
    "id": "w35LU_dFCyJ_"
   },
   "outputs": [],
   "source": [
    "import cv2\n",
    "import numpy as np\n",
    "\n",
    "labels1=[]\n",
    "videos1=[]\n",
    "\n",
    "count=0\n",
    "\n",
    "for file in video_filepaths1:\n",
    "    cap = cv2.VideoCapture(\"C:\\\\Users\\\\Kennedy\\\\OneDrive\\\\Documents\\\\NUS\\\\Projects\\\\PRS\\\\GIT\\\\PRPS\\\\Data\\\\\"+file)\n",
    "    nframe = cap.get(cv2.CAP_PROP_FRAME_COUNT)\n",
    "    if nframe != 29:\n",
    "      continue\n",
    "    frames = [x for x in range(int(nframe))]\n",
    "    framearray = []\n",
    "    \n",
    "\n",
    "    for i in range(int(nframe)):\n",
    "        cap.set(cv2.CAP_PROP_POS_FRAMES, frames[i])\n",
    "        ret, frame = cap.read()\n",
    "        frame = cv2.resize(frame, (64, 64))\n",
    "        # framearray.append(cv2.cvtColor(np.array(frame), cv2.COLOR_BGR2GRAY))\n",
    "        framearray.append(cv2.cvtColor(frame, cv2.COLOR_BGR2GRAY))\n",
    "\n",
    "    cap.release()\n",
    "    videos1.append(np.array(framearray)[:,:,:,np.newaxis])\n",
    "\n",
    "    filename=file.split(\"\\\\\")[-1]\n",
    "    labels1.append(filename.split(\"_\")[1])\n",
    "#     count+=1\n",
    "#     if count > 10:\n",
    "#         break\n",
    "    \n",
    "print(len(videos1))\n",
    "print(len(labels1))"
   ]
  },
  {
   "cell_type": "code",
   "execution_count": null,
   "metadata": {
    "id": "AypQSj17CyMw"
   },
   "outputs": [],
   "source": [
    "# one hot encoding\n",
    "from numpy import array\n",
    "from numpy import argmax\n",
    "from sklearn.preprocessing import LabelEncoder\n",
    "from sklearn.preprocessing import OneHotEncoder\n",
    "# define example\n",
    "values = array(labels2)\n",
    "print(values)\n",
    "# integer encode\n",
    "label_encoder = LabelEncoder()\n",
    "integer_encoded = label_encoder.fit_transform(values)\n",
    "print(integer_encoded)\n",
    "# binary encode\n",
    "onehot_encoder = OneHotEncoder(sparse=False)\n",
    "integer_encoded = integer_encoded.reshape(len(integer_encoded), 1)\n",
    "onehot_encoded = onehot_encoder.fit_transform(integer_encoded)\n",
    "print(onehot_encoded)\n",
    "# invert first example\n",
    "inverted = label_encoder.inverse_transform([argmax(onehot_encoded[0, :])])\n",
    "print(inverted)"
   ]
  },
  {
   "cell_type": "code",
   "execution_count": null,
   "metadata": {
    "id": "3kp1GwzmCyPO"
   },
   "outputs": [],
   "source": [
    "import argparse\n",
    "import os\n",
    "\n",
    "import matplotlib\n",
    "matplotlib.use('AGG')\n",
    "import matplotlib.pyplot as plt\n",
    "import numpy as np\n",
    "from tensorflow.keras.datasets import cifar10\n",
    "from tensorflow.keras.layers import (Activation, Conv3D, Dense, Dropout, Flatten,\n",
    "                          MaxPooling3D)\n",
    "from tensorflow.keras.layers import LeakyReLU\n",
    "from tensorflow.keras.losses import categorical_crossentropy\n",
    "from tensorflow.keras.models import Sequential\n",
    "from tensorflow.keras.optimizers import Adam\n",
    "from keras.utils import np_utils\n",
    "from keras.utils.vis_utils import plot_model\n",
    "import sklearn.metrics as metrics"
   ]
  },
  {
   "cell_type": "code",
   "execution_count": null,
   "metadata": {
    "id": "jA3_FWSwCyR2"
   },
   "outputs": [],
   "source": [
    "#test model structure\n",
    "def createmodel():\n",
    "  model = Sequential()\n",
    "  model.add(Conv3D(64, kernel_size=(3, 3, 3), input_shape=(29, 64, 64, 1)))\n",
    "  model.add(Activation('relu'))\n",
    "  model.add(Conv3D(64, kernel_size=(3, 3, 3)))\n",
    "  model.add(Activation('softmax'))\n",
    "  model.add(AveragePooling3D(pool_size=(3, 3, 3)))\n",
    "  model.add(Dropout(0.25))\n",
    "\n",
    "  model.add(Conv3D(128, kernel_size=(3, 3, 3)))\n",
    "  model.add(Activation('relu'))\n",
    "  model.add(Conv3D(128, kernel_size=(3, 3, 3)))\n",
    "  model.add(Activation('softmax'))\n",
    "  model.add(AveragePooling3D(pool_size=(3, 3, 3)))\n",
    "  model.add(Dropout(0.25))\n",
    "\n",
    "  model.add(Flatten())\n",
    "  model.add(Dense(512, activation='sigmoid'))\n",
    "  model.add(Dropout(0.5))\n",
    "  model.add(Dense(24, activation='softmax'))\n",
    "\n",
    "  model.compile(loss=categorical_crossentropy,\n",
    "              optimizer=Adam(), metrics=['accuracy'])\n",
    "  return model\n",
    "\n",
    "modeltest = createmodel()\n",
    "modelgo = createmodel()"
   ]
  },
  {
   "cell_type": "code",
   "execution_count": null,
   "metadata": {
    "id": "Hzeqonx7CyUt"
   },
   "outputs": [],
   "source": [
    "#load model weights and predict result for each test video\n",
    "modeltest.load_weights(\"C:\\\\Users\\\\Kennedy\\\\OneDrive\\\\Documents\\\\NUS\\\\Projects\\\\PRS\\\\GIT\\\\PRPS\\\\Model_weights\\\\model_weights_multi-conv3d_64_128_avg_24_words.hdf5\")\n",
    "modeltest.compile(loss=categorical_crossentropy,optimizer=Adam(), metrics=['accuracy'])\n",
    "predicts = modeltest.predict(np.array(videos2))\n",
    "#24 words\n",
    "labelname   = ['ABOUT','BECAUSE','COULD','DIFFERENT','UNDERSTAND','EVERYBODY','FOOTBALL','GOING','HUMAN','INFORMATION','KILLED','LEAVE','JUDGE','MEDIA','NUMBER','OUTSIDE','PERSON','QUESTION','VIOLENCE','SAYING','THERE','WHERE','YESTERDAY','REPORT']\n",
    "                                                            \n",
    "predout     = np.argmax(predicts,axis=1)"
   ]
  },
  {
   "cell_type": "code",
   "execution_count": null,
   "metadata": {
    "id": "eML_wO8zCyXo"
   },
   "outputs": [],
   "source": [
    "#confusion matrix\n",
    "testout     = np.argmax(onehot_encoded,axis=1)\n",
    "\n",
    "testScores  = metrics.accuracy_score(testout,predout)                          \n",
    "\n",
    "print(\"Best accuracy (on testing dataset): %.2f%%\" % (testScores*100))\n",
    "print(metrics.classification_report(testout,\n",
    "                                    predout,\n",
    "                                    target_names=labelname,\n",
    "                                    digits=4))"
   ]
  },
  {
   "cell_type": "code",
   "execution_count": null,
   "metadata": {
    "id": "qR-mDKwlCyaU"
   },
   "outputs": [],
   "source": [
    "confusion   = metrics.confusion_matrix(testout,predout)\n",
    "print(confusion)"
   ]
  },
  {
   "cell_type": "markdown",
   "metadata": {
    "id": "afUJ8-a_y4Cq"
   },
   "source": [
    "**Code for visulization word**"
   ]
  },
  {
   "cell_type": "code",
   "execution_count": null,
   "metadata": {
    "id": "ihIKJLY-zWNp"
   },
   "outputs": [],
   "source": [
    "#Change to your desired location\n",
    "os.chdir(\"C:\\\\Users\\\\Kennedy\\\\OneDrive\\\\Documents\\\\NUS\\\\Projects\\\\PRS\\\\GIT\\\\PRPS\\\\Data\\\\\")\n",
    "print(os.getcwd())"
   ]
  },
  {
   "cell_type": "code",
   "execution_count": null,
   "metadata": {
    "id": "ulswGr0wzW10"
   },
   "outputs": [],
   "source": [
    "video_filepaths_=[]\n",
    "video_filepaths_=(glob.glob(\"processed_**.mp4\"))"
   ]
  },
  {
   "cell_type": "code",
   "execution_count": null,
   "metadata": {
    "id": "zF1e9SdozW4W"
   },
   "outputs": [],
   "source": [
    "import cv2\n",
    "import numpy as np\n",
    "\n",
    "labels_=[]\n",
    "videos_=[]\n",
    "\n",
    "count=0\n",
    "\n",
    "for file in video_filepaths_:\n",
    "    cap = cv2.VideoCapture(file)\n",
    "    nframe = cap.get(cv2.CAP_PROP_FRAME_COUNT)\n",
    "    # if nframe != 29:\n",
    "    #   continue\n",
    "    # print(nframe)\n",
    "    frames = [x for x in range(int(nframe))]\n",
    "    framearray = []\n",
    "    \n",
    "\n",
    "    for i in range(int(nframe)):\n",
    "        cap.set(cv2.CAP_PROP_POS_FRAMES, frames[i])\n",
    "        ret, frame = cap.read()\n",
    "        frame = cv2.resize(frame, (64, 64))\n",
    "        # framearray.append(cv2.cvtColor(np.array(frame), cv2.COLOR_BGR2GRAY))\n",
    "        framearray.append(cv2.cvtColor(frame, cv2.COLOR_BGR2GRAY))\n",
    "\n",
    "    cap.release()\n",
    "    videos_.append(np.array(framearray)[:,:,:,np.newaxis])\n",
    "\n",
    "    filename=file.split(\"\\\\\")[-1]\n",
    "    labels_.append(filename.split(\"_\")[1])\n",
    "#     count+=1\n",
    "#     if count > 10:\n",
    "#         break\n",
    "    \n",
    "print(len(videos_))\n",
    "print(len(labels_))\n",
    "print(labels_)"
   ]
  },
  {
   "cell_type": "code",
   "execution_count": null,
   "metadata": {
    "id": "a8aT-auMzW7C"
   },
   "outputs": [],
   "source": [
    "# convert 24 words to one hot encoder\n",
    "labels = ['ABOUT','BECAUSE','COULD','DIFFERENT','UNDERSTAND','EVERYBODY','FOOTBALL','GOING','HUMAN','INFORMATION','KILLED','LEAVE','JUDGE','MEDIA','NUMBER','OUTSIDE','PERSON','QUESTION','VIOLENCE','SAYING','THERE','WHERE','YESTERDAY','REPORT']\n",
    "from numpy import array\n",
    "from numpy import argmax\n",
    "from sklearn.preprocessing import LabelEncoder\n",
    "from sklearn.preprocessing import OneHotEncoder\n",
    "# define example\n",
    "values = array(labels)\n",
    "print(values)\n",
    "# integer encode\n",
    "label_encoder = LabelEncoder()\n",
    "integer_encoded = label_encoder.fit_transform(values)\n",
    "print(integer_encoded)\n",
    "# binary encode\n",
    "onehot_encoder = OneHotEncoder(sparse=False)\n",
    "integer_encoded = integer_encoded.reshape(len(integer_encoded), 1)\n",
    "onehot_encoded = onehot_encoder.fit_transform(integer_encoded)\n",
    "print(onehot_encoded)\n",
    "# invert first example\n",
    "inverted = label_encoder.inverse_transform([argmax(onehot_encoded[0, :])])\n",
    "print(inverted)"
   ]
  },
  {
   "cell_type": "code",
   "execution_count": null,
   "metadata": {
    "id": "AJiYfp8fyxV2"
   },
   "outputs": [],
   "source": [
    "#predict\n",
    "modelgo.load_weights(\"C:\\\\Users\\\\Kennedy\\\\OneDrive\\\\Documents\\\\NUS\\\\Projects\\\\PRS\\\\GIT\\\\PRPS\\\\Model_weights\\\\model_weights_multi-conv3d_64_128_avg_24_words.hdf5\")\n",
    "modelgo.compile(loss=categorical_crossentropy,optimizer=Adam(), metrics=['accuracy'])\n",
    "predicts = modelgo.predict(np.array(videos_))\n",
    "\n",
    "inverted = label_encoder.inverse_transform([argmax(predicts)])\n",
    "print(inverted)"
   ]
  },
  {
   "cell_type": "code",
   "execution_count": null,
   "metadata": {
    "id": "co6K7pO105Kn"
   },
   "outputs": [],
   "source": [
    "#puttext \n",
    "#Change to desired output path\n",
    "outpath = \"C:\\\\Users\\\\Kennedy\\\\OneDrive\\\\Documents\\\\NUS\\\\Projects\\\\PRS\\\\GIT\\\\PRPS\\\\Data\\\\\"\n",
    "\n",
    "vs = cv2.VideoCapture(\"C:\\\\Users\\\\Kennedy\\\\OneDrive\\\\Documents\\\\NUS\\\\Projects\\\\PRS\\\\GIT\\\\PRPS\\\\Data\\\\processed_WHERE_3.mp4\")\n",
    "writer = None\n",
    "(W,H) = (None,None)\n",
    "while True:\n",
    "  (grabbed,frame) = vs.read()\n",
    "  if not grabbed:\n",
    "    print(\"Video not found\")\n",
    "    break\n",
    "  if W is None or H is None:\n",
    "    (H,W) = frame.shape[:2]\n",
    "\n",
    " # print(frame.shape)\n",
    "  output = frame.copy()\n",
    "  text = \"P: {}\".format(inverted)\n",
    "\n",
    "  cv2.putText(output,text,(10,40),cv2.FONT_HERSHEY_SIMPLEX,1.25,(0,255,0),5,cv2.LINE_AA)\n",
    "\n",
    "  if writer is None:\n",
    "    print(\"Define writer\")\n",
    "    fourcc = cv2.VideoWriter_fourcc(*\"MJPG\")\n",
    "    writer = cv2.VideoWriter(outpath,fourcc,30,(W,H),True)\n",
    "#  print(output.shape)\n",
    "  writer.write(output)\n",
    "writer.release()\n",
    "vs.release()"
   ]
  }
 ],
 "metadata": {
  "colab": {
   "authorship_tag": "ABX9TyOKYTenCEA8+3AzjbVaD1WH",
   "name": "prs_test_for100.ipynb",
   "provenance": []
  },
  "kernelspec": {
   "display_name": "Python 3 (ipykernel)",
   "language": "python",
   "name": "python3"
  },
  "language_info": {
   "codemirror_mode": {
    "name": "ipython",
    "version": 3
   },
   "file_extension": ".py",
   "mimetype": "text/x-python",
   "name": "python",
   "nbconvert_exporter": "python",
   "pygments_lexer": "ipython3",
   "version": "3.8.11"
  }
 },
 "nbformat": 4,
 "nbformat_minor": 1
}

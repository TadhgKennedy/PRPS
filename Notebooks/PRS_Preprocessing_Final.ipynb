{
 "cells": [
  {
   "cell_type": "markdown",
   "id": "a1ee4f9d",
   "metadata": {},
   "source": [
    "**Required installs**"
   ]
  },
  {
   "cell_type": "code",
   "execution_count": null,
   "id": "9e575b0b",
   "metadata": {},
   "outputs": [],
   "source": [
    "# !pip install numpy"
   ]
  },
  {
   "cell_type": "code",
   "execution_count": null,
   "id": "ff45e0e4",
   "metadata": {},
   "outputs": [],
   "source": [
    "# !pip install pandas"
   ]
  },
  {
   "cell_type": "code",
   "execution_count": null,
   "id": "c768c44d",
   "metadata": {},
   "outputs": [],
   "source": [
    "# !pip install sklearn --upgrade"
   ]
  },
  {
   "cell_type": "code",
   "execution_count": null,
   "id": "9bbf01cf",
   "metadata": {},
   "outputs": [],
   "source": [
    "# !pip install scikit-video --upgrade"
   ]
  },
  {
   "cell_type": "code",
   "execution_count": null,
   "id": "70c603fa",
   "metadata": {},
   "outputs": [],
   "source": [
    "# conda install opencv"
   ]
  },
  {
   "cell_type": "markdown",
   "id": "75466dfd",
   "metadata": {},
   "source": [
    "The following steps need Visual Studio C++ to be installed on your computer"
   ]
  },
  {
   "cell_type": "code",
   "execution_count": null,
   "id": "9c9208e4",
   "metadata": {},
   "outputs": [],
   "source": [
    "# !pip install cmake"
   ]
  },
  {
   "cell_type": "code",
   "execution_count": null,
   "id": "24e9c616",
   "metadata": {},
   "outputs": [],
   "source": [
    "# conda install -c conda-forge dlib"
   ]
  },
  {
   "cell_type": "markdown",
   "id": "f70fdf7c",
   "metadata": {},
   "source": [
    "**Move to script location**"
   ]
  },
  {
   "cell_type": "code",
   "execution_count": 1,
   "id": "c474cc8e",
   "metadata": {},
   "outputs": [
    {
     "data": {
      "text/plain": [
       "'C:\\\\Users\\\\Kennedy\\\\OneDrive\\\\Documents\\\\NUS\\\\Projects\\\\PRS\\\\Experiments'"
      ]
     },
     "execution_count": 1,
     "metadata": {},
     "output_type": "execute_result"
    }
   ],
   "source": [
    "import numpy as np\n",
    "import os\n",
    "\n",
    "os.getcwd()"
   ]
  },
  {
   "cell_type": "code",
   "execution_count": 2,
   "id": "698e6e3d",
   "metadata": {},
   "outputs": [],
   "source": [
    "#Need to change to your location for the VisualizeLip.py code\n",
    "os.chdir('C:\\\\Users\\\\Kennedy\\\\OneDrive\\\\Documents\\\\NUS\\\\Projects\\\\PRS\\\\GIT\\\\PRPS\\\\lip_tracking')"
   ]
  },
  {
   "cell_type": "code",
   "execution_count": 3,
   "id": "e8e6d4a5",
   "metadata": {},
   "outputs": [
    {
     "data": {
      "text/plain": [
       "['dlib', 'VisualizeLip.py', '__pycache__']"
      ]
     },
     "execution_count": 3,
     "metadata": {},
     "output_type": "execute_result"
    }
   ],
   "source": [
    "os.listdir()"
   ]
  },
  {
   "cell_type": "code",
   "execution_count": 4,
   "id": "f6b3f3bc",
   "metadata": {},
   "outputs": [
    {
     "data": {
      "text/plain": [
       "'C:\\\\Users\\\\Kennedy\\\\OneDrive\\\\Documents\\\\NUS\\\\Projects\\\\PRS\\\\GIT\\\\PRPS\\\\lip_tracking'"
      ]
     },
     "execution_count": 4,
     "metadata": {},
     "output_type": "execute_result"
    }
   ],
   "source": [
    "os.getcwd()"
   ]
  },
  {
   "cell_type": "markdown",
   "id": "82c069f5",
   "metadata": {},
   "source": [
    "**Training Dataset**"
   ]
  },
  {
   "cell_type": "code",
   "execution_count": 5,
   "id": "2f9b766c",
   "metadata": {},
   "outputs": [
    {
     "data": {
      "text/plain": [
       "488766"
      ]
     },
     "execution_count": 5,
     "metadata": {},
     "output_type": "execute_result"
    }
   ],
   "source": [
    "import glob\n",
    "\n",
    "video_filepaths=[]\n",
    "#Need to change filepath to be filepath to your training dataset location\n",
    "video_filepaths.append(glob.glob(\"C:\\\\Users\\\\Kennedy\\\\OneDrive\\\\Documents\\\\NUS\\\\Projects\\\\PRS\\\\GIT\\\\PRPS\\\\Data\\\\LRW\\\\lipread_mp4\\\\**\\\\train\\\\**.mp4\"))\n",
    "\n",
    "len(video_filepaths[0])"
   ]
  },
  {
   "cell_type": "code",
   "execution_count": null,
   "id": "33bcdc5a",
   "metadata": {},
   "outputs": [],
   "source": [
    "# Input the desired path for processed file\n",
    "dest_path=\"C:\\\\Users\\\\Kennedy\\\\OneDrive\\\\Documents\\\\NUS\\\\Projects\\\\PRS\\\\Data\\\\LRW\\\\results_train\"\n",
    "\n",
    "old_label=\"Nothing\"\n",
    "count=0\n",
    "for f in video_filepaths[0]:\n",
    "    print(f)\n",
    "    filename=f.split(\"\\\\\")[-1]\n",
    "    out_path=dest_path+\"\\\\processed_\"+filename\n",
    "    ren_path=dest_path+\"\\\\render_\"+filename\n",
    "    new_label=filename.split(\"_\")[0]\n",
    "    #Logic to skip words\n",
    "    if new_label in [\"ABOUT\",\"ABSOLUTELY\"]:\n",
    "       continue\n",
    "    elif new_label.startswith('Z'):\n",
    "        break\n",
    "    elif new_label != old_label:\n",
    "        old_label=new_label\n",
    "        count=0\n",
    "        %run VisualizeLip --input $f --output $out_path --render $ren_path\n",
    "        print(out_path)\n",
    "        count+=1\n",
    "    #Only process desired set of files\n",
    "    elif count >= 1 and count < 1000:\n",
    "            %run VisualizeLip --input $f --output $out_path --render $ren_path\n",
    "            print(out_path)\n",
    "            count+=1\n",
    "    else:\n",
    "            count+=1\n",
    "            continue"
   ]
  },
  {
   "cell_type": "markdown",
   "id": "fce88a0a",
   "metadata": {},
   "source": [
    "**Specific Words Only**"
   ]
  },
  {
   "cell_type": "code",
   "execution_count": null,
   "id": "e946b933",
   "metadata": {},
   "outputs": [],
   "source": [
    "# Input the desired path for processed file\n",
    "dest_path=\"C:\\\\Users\\\\Kennedy\\\\OneDrive\\\\Documents\\\\NUS\\\\Projects\\\\PRS\\\\Data\\\\LRW\\\\results_train\"\n",
    "\n",
    "old_label=\"Nothing\"\n",
    "count=0\n",
    "for f in video_filepaths[0]:\n",
    "#     print(f)\n",
    "    filename=f.split(\"\\\\\")[-1]\n",
    "    out_path=dest_path+\"\\\\processed_\"+filename\n",
    "    ren_path=dest_path+\"\\\\render_\"+filename\n",
    "    new_label=filename.split(\"_\")[0]\n",
    "    #Logic to choose specific words\n",
    "    if new_label in [\"ALWAYS\",\"BUILD\",\"BEING\",\"BELIEVE\",\"BUILDING\",\"BETTER\",\"AHEAD\"]:\n",
    "        if new_label != old_label:\n",
    "            old_label=new_label\n",
    "            count=0\n",
    "            %run VisualizeLip --input $f --output $out_path --render $ren_path\n",
    "            print(out_path)\n",
    "            count+=1\n",
    "        #Only process desired set of files\n",
    "        elif count >= 0 and count <= 1000:\n",
    "            %run VisualizeLip --input $f --output $out_path --render $ren_path\n",
    "            print(out_path)\n",
    "            count+=1\n",
    "        else:\n",
    "            count+=1\n",
    "            continue"
   ]
  },
  {
   "cell_type": "markdown",
   "id": "566fa462",
   "metadata": {},
   "source": [
    "**Validation Data**"
   ]
  },
  {
   "cell_type": "code",
   "execution_count": 8,
   "id": "3e124d85",
   "metadata": {},
   "outputs": [
    {
     "data": {
      "text/plain": [
       "25000"
      ]
     },
     "execution_count": 8,
     "metadata": {},
     "output_type": "execute_result"
    }
   ],
   "source": [
    "import glob\n",
    "\n",
    "video_filepaths=[]\n",
    "# Need to change filepath to be filepath to your validation dataset location\n",
    "video_filepaths.append(glob.glob(\"C:\\\\Users\\\\Kennedy\\\\OneDrive\\\\Documents\\\\NUS\\\\Projects\\\\PRS\\\\GIT\\\\PRPS\\\\Data\\\\LRW\\\\lipread_mp4\\\\**\\\\val\\\\**.mp4\"))\n",
    "\n",
    "\n",
    "len(video_filepaths[0])"
   ]
  },
  {
   "cell_type": "code",
   "execution_count": null,
   "id": "f115f834",
   "metadata": {},
   "outputs": [],
   "source": [
    "# Input the desired path for processed file\n",
    "dest_path=\"C:\\\\Users\\\\Kennedy\\\\OneDrive\\\\Documents\\\\NUS\\\\Projects\\\\PRS\\\\Data\\\\LRW\\\\results_val\"\n",
    "\n",
    "old_label=\"Nothing\"\n",
    "count=0\n",
    "for f in video_filepaths[0]:\n",
    "    print(f)\n",
    "    filename=f.split(\"\\\\\")[-1]\n",
    "    out_path=dest_path+\"\\\\processed_\"+filename\n",
    "    ren_path=dest_path+\"\\\\render_\"+filename\n",
    "    new_label=filename.split(\"_\")[0]\n",
    "    #Logic to skip words\n",
    "    if new_label in [\"ABOUT\",\"ABSOLUTELY\"]:\n",
    "       continue\n",
    "    elif new_label.startswith('Z'):\n",
    "        break\n",
    "    elif new_label != old_label:\n",
    "        old_label=new_label\n",
    "        count=0\n",
    "        %run VisualizeLip --input $f --output $out_path --render $ren_path\n",
    "        print(out_path)\n",
    "        count+=1\n",
    "    #Only process desired set of files\n",
    "    elif count >= 1 and count < 1000:\n",
    "            %run VisualizeLip --input $f --output $out_path --render $ren_path\n",
    "            print(out_path)\n",
    "            count+=1\n",
    "    else:\n",
    "            count+=1\n",
    "            continue"
   ]
  },
  {
   "cell_type": "markdown",
   "id": "af2d2e7c",
   "metadata": {},
   "source": [
    "**Test Data**"
   ]
  },
  {
   "cell_type": "code",
   "execution_count": 10,
   "id": "d4b95ed8",
   "metadata": {},
   "outputs": [
    {
     "data": {
      "text/plain": [
       "25000"
      ]
     },
     "execution_count": 10,
     "metadata": {},
     "output_type": "execute_result"
    }
   ],
   "source": [
    "import glob\n",
    "\n",
    "video_filepaths=[]\n",
    "# Need to change filepath to be filepath to your validation dataset location\n",
    "video_filepaths.append(glob.glob(\"C:\\\\Users\\\\Kennedy\\\\OneDrive\\\\Documents\\\\NUS\\\\Projects\\\\PRS\\\\GIT\\\\PRPS\\\\Data\\\\LRW\\\\lipread_mp4\\\\**\\\\test\\\\**.mp4\"))\n",
    "\n",
    "\n",
    "len(video_filepaths[0])"
   ]
  },
  {
   "cell_type": "code",
   "execution_count": null,
   "id": "a8de25f3",
   "metadata": {},
   "outputs": [],
   "source": [
    "# Input the desired path for processed file\n",
    "dest_path=\"C:\\\\Users\\\\Kennedy\\\\OneDrive\\\\Documents\\\\NUS\\\\Projects\\\\PRS\\\\Data\\\\LRW\\\\results_test\"\n",
    "\n",
    "old_label=\"Nothing\"\n",
    "count=0\n",
    "for f in video_filepaths[0]:\n",
    "    print(f)\n",
    "    filename=f.split(\"\\\\\")[-1]\n",
    "    out_path=dest_path+\"\\\\processed_\"+filename\n",
    "    ren_path=dest_path+\"\\\\render_\"+filename\n",
    "    new_label=filename.split(\"_\")[0]\n",
    "    #Logic to skip words\n",
    "    if new_label in [\"ABOUT\",\"ABSOLUTELY\"]:\n",
    "       continue\n",
    "    elif new_label.startswith('Z'):\n",
    "        break\n",
    "    elif new_label != old_label:\n",
    "        old_label=new_label\n",
    "        count=0\n",
    "        %run VisualizeLip --input $f --output $out_path --render $ren_path\n",
    "        print(out_path)\n",
    "        count+=1\n",
    "    #Only process desired set of files\n",
    "    elif count >= 1 and count < 1000:\n",
    "            %run VisualizeLip --input $f --output $out_path --render $ren_path\n",
    "            print(out_path)\n",
    "            count+=1\n",
    "    else:\n",
    "            count+=1\n",
    "            continue"
   ]
  },
  {
   "cell_type": "code",
   "execution_count": null,
   "id": "a5fa5845",
   "metadata": {},
   "outputs": [],
   "source": []
  }
 ],
 "metadata": {
  "kernelspec": {
   "display_name": "Python 3 (ipykernel)",
   "language": "python",
   "name": "python3"
  },
  "language_info": {
   "codemirror_mode": {
    "name": "ipython",
    "version": 3
   },
   "file_extension": ".py",
   "mimetype": "text/x-python",
   "name": "python",
   "nbconvert_exporter": "python",
   "pygments_lexer": "ipython3",
   "version": "3.8.11"
  }
 },
 "nbformat": 4,
 "nbformat_minor": 5
}
